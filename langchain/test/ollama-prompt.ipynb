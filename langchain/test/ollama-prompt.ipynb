{
 "cells": [
  {
   "metadata": {
    "ExecuteTime": {
     "end_time": "2025-06-13T06:16:27.574843Z",
     "start_time": "2025-06-13T06:15:41.616531Z"
    }
   },
   "cell_type": "code",
   "source": [
    "from langchain.chains.llm import LLMChain\n",
    "from langchain_core.prompts import PromptTemplate\n",
    "from langchain.llms import Ollama\n",
    "# 连接本地Ollama模型\n",
    "llm = Ollama(\n",
    "    model=\"my-deepseek\",  # 模型名称（与ollama list显示的一致）\n",
    "    temperature=0.7,  # 生成文本的随机性（0-1）\n",
    "    base_url=\"http://localhost:11434\"  # Ollama API地址（默认）\n",
    ")\n",
    "\n",
    "# 创建提示模板\n",
    "prompt = PromptTemplate(\n",
    "    input_variables=[\"topic\"],\n",
    "    template=\"请用简单的语言解释{topic}的基本原理\"\n",
    ")\n",
    "\n",
    "# 创建LLM链\n",
    "chain = LLMChain(llm=llm, prompt=prompt)\n",
    "\n",
    "# 使用模型生成文本\n",
    "response = chain.run(topic = \"春眠不觉晓\")\n",
    "print(response)\n"
   ],
   "id": "f8091389b49899cf",
   "outputs": [
    {
     "name": "stdout",
     "output_type": "stream",
     "text": [
      "<think>\n",
      "嗯，我现在要解释“春眠不觉晓”的基本原理，这个现象是说在春天，昆虫会在冬眠中被暖和的温度唤醒，而不会察觉到时间的变化。首先，我得理解这个现象背后的生理机制。\n",
      "\n",
      "我知道动物，尤其是昆虫，有不同的休眠状态，比如冬眠、夏眠等。春眠不觉晓听起来像是昆虫在春天休眠被温度唤醒，但它们不会意识到已经过去了很长时间。这可能涉及到昆虫的体内生物钟和一些激素的变化。\n",
      "\n",
      "首先，昆虫进入冬眠或夏眠是为了适应环境气温变化。冬眠通常是在寒冷条件下，而春眠可能是在温度较高但光照不足的环境中。但具体机制是什么呢？\n",
      "\n",
      "我记得昆虫的生物钟由视杆细胞控制，这些细胞产生某种激素，调节昼夜节律。例如，甲状腺激素可能在昆虫的觉醒和周期变化中起作用。当温度升高，昆虫的视杆细胞可能被激活，启动解除休眠的过程。\n",
      "\n",
      "当春天来临，昆虫从冬眠中被温度唤醒，但它们不会意识到时间已经过去了。这可能是因为它们的生物钟还没有完全恢复，或者说它们进入了一个低代谢状态，无法感知时间的流逝。或者，这种情况下，它们的生理状态更像是在长时间的休眠中，而不是短暂的觉醒。\n",
      "\n",
      "另外，昆虫的外部感官可能也有限制，比如在冬眠期间，它们可能不会有意识地去察觉周围环境的变化，直到被特定的触发条件唤醒。温度的变化是主要的触发因素之一，但它们内部的生物钟可能还没有调整，所以即使时间已经过去了很久，它们也感觉不到。\n",
      "\n",
      "总结一下，春眠不觉晓可能涉及昆虫在温度上升时被唤醒，但由于其生物钟和生理状态，他们无法察觉到已经过了很长的时间。这可能是因为它们进入的是一种低代谢、休眠模式，只有在特定条件下才会恢复正常活动。\n",
      "</think>\n",
      "\n",
      "春眠不觉晓是一个有趣的现象，主要涉及昆虫的生物钟和温度感受器。具体来说：\n",
      "\n",
      "1. **生物钟调控**：昆虫拥有视杆细胞，这些细胞通过产生激素（如甲状腺激素）来控制昼夜节律。当温度升高，视杆细胞被激活，启动解除休眠的过程。\n",
      "\n",
      "2. **温度触发唤醒**：春天气温上升，昆虫从冬眠中被唤醒，但由于其生物钟仍在调整，它们不会察觉到时间的流逝。\n",
      "\n",
      "3. **生理状态与感知**：昆虫在这种低代谢状态下，外部感官可能不敏感，只有当特定条件满足时才会恢复正常活动。\n",
      "\n",
      "总之，这一现象展示了昆虫如何通过生物钟和温度感受器来应对环境变化，同时保持相对恒定的生理状态。\n"
     ]
    }
   ],
   "execution_count": 2
  },
  {
   "metadata": {},
   "cell_type": "markdown",
   "source": "",
   "id": "2414a10e22fecbab"
  }
 ],
 "metadata": {
  "kernelspec": {
   "display_name": "Python 3",
   "language": "python",
   "name": "python3"
  },
  "language_info": {
   "codemirror_mode": {
    "name": "ipython",
    "version": 2
   },
   "file_extension": ".py",
   "mimetype": "text/x-python",
   "name": "python",
   "nbconvert_exporter": "python",
   "pygments_lexer": "ipython2",
   "version": "2.7.6"
  }
 },
 "nbformat": 4,
 "nbformat_minor": 5
}
